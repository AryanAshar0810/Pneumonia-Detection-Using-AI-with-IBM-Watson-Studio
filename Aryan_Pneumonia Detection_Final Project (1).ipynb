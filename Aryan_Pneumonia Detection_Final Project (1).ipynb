{
 "cells": [
  {
   "cell_type": "code",
   "execution_count": 1,
   "id": "27f21162",
   "metadata": {},
   "outputs": [],
   "source": [
    "from tensorflow.keras.preprocessing.image import ImageDataGenerator, load_img\n",
    "from tensorflow.keras.models import Sequential\n",
    "from tensorflow.keras.layers import Conv2D, MaxPooling2D\n",
    "from tensorflow.keras.layers import Dropout, Flatten, Dense\n",
    "import os\n",
    "import numpy as np\n",
    "import pandas as pd"
   ]
  },
  {
   "cell_type": "code",
   "execution_count": 2,
   "id": "822e5395",
   "metadata": {},
   "outputs": [],
   "source": [
    "train = r'C:\\Users\\HP\\Downloads\\Pneumonia Detection Dataset\\chest_xray\\train'\n",
    "test = r'C:\\Users\\HP\\Downloads\\Pneumonia Detection Dataset\\chest_xray\\test'\n",
    "val = r'C:\\Users\\HP\\Downloads\\Pneumonia Detection Dataset\\chest_xray\\val'"
   ]
  },
  {
   "cell_type": "code",
   "execution_count": 3,
   "id": "53d9a9a1",
   "metadata": {},
   "outputs": [],
   "source": [
    "batch_size=15\n",
    "image_size=(120,120)"
   ]
  },
  {
   "cell_type": "code",
   "execution_count": 4,
   "id": "5c7fb071",
   "metadata": {},
   "outputs": [],
   "source": [
    "train_datagen= ImageDataGenerator(rotation_range=15,\n",
    "                                 width_shift_range=0.2,\n",
    "                                 height_shift_range=0.2,\n",
    "                                 horizontal_flip=True,\n",
    "                                 rescale=1./255) \n",
    "\n",
    "test_datagen = ImageDataGenerator(rescale=1./255)"
   ]
  },
  {
   "cell_type": "code",
   "execution_count": 5,
   "id": "a16b75e9",
   "metadata": {},
   "outputs": [
    {
     "name": "stdout",
     "output_type": "stream",
     "text": [
      "Found 5216 images belonging to 2 classes.\n",
      "Found 624 images belonging to 2 classes.\n",
      "Found 16 images belonging to 2 classes.\n"
     ]
    }
   ],
   "source": [
    "train_generator = train_datagen.flow_from_directory(\n",
    "    train,\n",
    "    target_size=image_size,\n",
    "    batch_size=batch_size,\n",
    "    class_mode=\"binary\")\n",
    "\n",
    "test_generator = test_datagen.flow_from_directory(\n",
    "    test,\n",
    "    target_size=image_size,\n",
    "    batch_size=batch_size,\n",
    "    class_mode=\"binary\")\n",
    "\n",
    "validation_generator = test_datagen.flow_from_directory(\n",
    "    val,\n",
    "    target_size=image_size,\n",
    "    batch_size=batch_size,\n",
    "    class_mode=\"binary\")"
   ]
  },
  {
   "cell_type": "code",
   "execution_count": 6,
   "id": "02018bc1",
   "metadata": {},
   "outputs": [],
   "source": [
    "model=Sequential()\n",
    "model.add(Conv2D(30,(3,3),activation='relu',input_shape=(120,120,3)))\n",
    "model.add(MaxPooling2D(pool_size=(2,2)))\n",
    "model.add(Dropout(0.2))\n",
    "model.add(Conv2D(75,(3,3),activation='relu'))\n",
    "model.add(MaxPooling2D(pool_size=(2,2)))\n",
    "model.add(Dropout(0.2))\n",
    "model.add(Conv2D(120,(3,3),activation='relu'))\n",
    "model.add(MaxPooling2D(pool_size=(2,2)))\n",
    "model.add(Dropout(0.2))\n",
    "model.add(Flatten())\n",
    "model.add(Dense(220,activation='relu'))\n",
    "model.add(Dropout(0.2))\n",
    "model.add(Dense(1,activation='sigmoid'))\n",
    "model.compile(optimizer='rmsprop',loss='binary_crossentropy',metrics=['accuracy'])"
   ]
  },
  {
   "cell_type": "code",
   "execution_count": 7,
   "id": "a0455c55",
   "metadata": {},
   "outputs": [
    {
     "name": "stdout",
     "output_type": "stream",
     "text": [
      "Model: \"sequential\"\n",
      "_________________________________________________________________\n",
      " Layer (type)                Output Shape              Param #   \n",
      "=================================================================\n",
      " conv2d (Conv2D)             (None, 118, 118, 30)      840       \n",
      "                                                                 \n",
      " max_pooling2d (MaxPooling2D  (None, 59, 59, 30)       0         \n",
      " )                                                               \n",
      "                                                                 \n",
      " dropout (Dropout)           (None, 59, 59, 30)        0         \n",
      "                                                                 \n",
      " conv2d_1 (Conv2D)           (None, 57, 57, 75)        20325     \n",
      "                                                                 \n",
      " max_pooling2d_1 (MaxPooling  (None, 28, 28, 75)       0         \n",
      " 2D)                                                             \n",
      "                                                                 \n",
      " dropout_1 (Dropout)         (None, 28, 28, 75)        0         \n",
      "                                                                 \n",
      " conv2d_2 (Conv2D)           (None, 26, 26, 120)       81120     \n",
      "                                                                 \n",
      " max_pooling2d_2 (MaxPooling  (None, 13, 13, 120)      0         \n",
      " 2D)                                                             \n",
      "                                                                 \n",
      " dropout_2 (Dropout)         (None, 13, 13, 120)       0         \n",
      "                                                                 \n",
      " flatten (Flatten)           (None, 20280)             0         \n",
      "                                                                 \n",
      " dense (Dense)               (None, 220)               4461820   \n",
      "                                                                 \n",
      " dropout_3 (Dropout)         (None, 220)               0         \n",
      "                                                                 \n",
      " dense_1 (Dense)             (None, 1)                 221       \n",
      "                                                                 \n",
      "=================================================================\n",
      "Total params: 4,564,326\n",
      "Trainable params: 4,564,326\n",
      "Non-trainable params: 0\n",
      "_________________________________________________________________\n"
     ]
    }
   ],
   "source": [
    "model.summary()"
   ]
  },
  {
   "cell_type": "code",
   "execution_count": 8,
   "id": "1dac77a1",
   "metadata": {},
   "outputs": [
    {
     "name": "stderr",
     "output_type": "stream",
     "text": [
      "C:\\Users\\HP\\AppData\\Local\\Temp/ipykernel_9744/2356288912.py:1: UserWarning: `Model.fit_generator` is deprecated and will be removed in a future version. Please use `Model.fit`, which supports generators.\n",
      "  model.fit_generator(train_generator,\n"
     ]
    },
    {
     "name": "stdout",
     "output_type": "stream",
     "text": [
      "Epoch 1/20\n",
      "347/347 [==============================] - 282s 805ms/step - loss: 0.5036 - accuracy: 0.7583 - val_loss: 0.7081 - val_accuracy: 0.6894\n",
      "Epoch 2/20\n",
      "347/347 [==============================] - 218s 629ms/step - loss: 0.3581 - accuracy: 0.8456 - val_loss: 0.5094 - val_accuracy: 0.7984\n",
      "Epoch 3/20\n",
      "347/347 [==============================] - 212s 610ms/step - loss: 0.3115 - accuracy: 0.8762 - val_loss: 0.6919 - val_accuracy: 0.7691\n",
      "Epoch 4/20\n",
      "347/347 [==============================] - 214s 616ms/step - loss: 0.2662 - accuracy: 0.8941 - val_loss: 0.4126 - val_accuracy: 0.8049\n",
      "Epoch 5/20\n",
      "347/347 [==============================] - 214s 617ms/step - loss: 0.2629 - accuracy: 0.8993 - val_loss: 0.4296 - val_accuracy: 0.8049\n",
      "Epoch 6/20\n",
      "347/347 [==============================] - 219s 630ms/step - loss: 0.2268 - accuracy: 0.9142 - val_loss: 0.3343 - val_accuracy: 0.8585\n",
      "Epoch 7/20\n",
      "347/347 [==============================] - 214s 616ms/step - loss: 0.2206 - accuracy: 0.9177 - val_loss: 0.7086 - val_accuracy: 0.7659\n",
      "Epoch 8/20\n",
      "347/347 [==============================] - 216s 622ms/step - loss: 0.2154 - accuracy: 0.9185 - val_loss: 0.5621 - val_accuracy: 0.7919\n",
      "Epoch 9/20\n",
      "347/347 [==============================] - 217s 624ms/step - loss: 0.2181 - accuracy: 0.9206 - val_loss: 0.4799 - val_accuracy: 0.7740\n",
      "Epoch 10/20\n",
      "347/347 [==============================] - 217s 626ms/step - loss: 0.2081 - accuracy: 0.9252 - val_loss: 0.7871 - val_accuracy: 0.7415\n",
      "Epoch 11/20\n",
      "347/347 [==============================] - 216s 622ms/step - loss: 0.1960 - accuracy: 0.9308 - val_loss: 0.9143 - val_accuracy: 0.7512\n",
      "Epoch 12/20\n",
      "347/347 [==============================] - 213s 614ms/step - loss: 0.1943 - accuracy: 0.9296 - val_loss: 1.7002 - val_accuracy: 0.7073\n",
      "Epoch 13/20\n",
      "347/347 [==============================] - 211s 608ms/step - loss: 0.1829 - accuracy: 0.9362 - val_loss: 0.4247 - val_accuracy: 0.8179\n",
      "Epoch 14/20\n",
      "347/347 [==============================] - 207s 597ms/step - loss: 0.1913 - accuracy: 0.9342 - val_loss: 0.8391 - val_accuracy: 0.7447\n",
      "Epoch 15/20\n",
      "347/347 [==============================] - 207s 595ms/step - loss: 0.1947 - accuracy: 0.9341 - val_loss: 0.5030 - val_accuracy: 0.7902\n",
      "Epoch 16/20\n",
      "347/347 [==============================] - 205s 592ms/step - loss: 0.1874 - accuracy: 0.9333 - val_loss: 0.4331 - val_accuracy: 0.7789\n",
      "Epoch 17/20\n",
      "347/347 [==============================] - 206s 594ms/step - loss: 0.1902 - accuracy: 0.9331 - val_loss: 1.0994 - val_accuracy: 0.7268\n",
      "Epoch 18/20\n",
      "347/347 [==============================] - 209s 603ms/step - loss: 0.1876 - accuracy: 0.9339 - val_loss: 0.5130 - val_accuracy: 0.7642\n",
      "Epoch 19/20\n",
      "347/347 [==============================] - 214s 617ms/step - loss: 0.2795 - accuracy: 0.9391 - val_loss: 0.4854 - val_accuracy: 0.8016\n",
      "Epoch 20/20\n",
      "347/347 [==============================] - 214s 617ms/step - loss: 0.2062 - accuracy: 0.9312 - val_loss: 1.1602 - val_accuracy: 0.7106\n"
     ]
    },
    {
     "data": {
      "text/plain": [
       "<keras.callbacks.History at 0x24ee99bde50>"
      ]
     },
     "execution_count": 8,
     "metadata": {},
     "output_type": "execute_result"
    }
   ],
   "source": [
    "model.fit_generator(train_generator,\n",
    "                   steps_per_epoch=5216//15,\n",
    "                   epochs=20,\n",
    "                   verbose=1,\n",
    "                   validation_data=test_generator,\n",
    "                   validation_steps=624//15)"
   ]
  },
  {
   "cell_type": "code",
   "execution_count": 14,
   "id": "00d8df6b",
   "metadata": {},
   "outputs": [],
   "source": [
    "model.save('pneumonia.h5')"
   ]
  },
  {
   "cell_type": "code",
   "execution_count": 1,
   "id": "37f5e363",
   "metadata": {},
   "outputs": [],
   "source": [
    "from keras.models import load_model\n",
    "from keras.preprocessing import image\n",
    "import numpy as np"
   ]
  },
  {
   "cell_type": "code",
   "execution_count": 2,
   "id": "d2d39de1",
   "metadata": {},
   "outputs": [],
   "source": [
    "model = load_model('pneumonia.h5')"
   ]
  },
  {
   "cell_type": "code",
   "execution_count": 11,
   "id": "164472a5",
   "metadata": {},
   "outputs": [
    {
     "name": "stdout",
     "output_type": "stream",
     "text": [
      "[[0.9999974]]\n",
      "[[1]]\n"
     ]
    }
   ],
   "source": [
    "from skimage.transform import resize\n",
    "import cv2\n",
    "def detect(frame):\n",
    "    try:\n",
    "        img = resize(frame,(120,120))\n",
    "        img = np.expand_dims(img,axis=0)\n",
    "        prediction = model.predict(img)\n",
    "        print(prediction)\n",
    "        prediction = (model.predict(img) > 0.5).astype(\"int32\")\n",
    "        print(prediction)\n",
    "    except AttributeError:\n",
    "        print(\"Shape not found\")\n",
    "frame = cv2.imread(r\"C:\\Users\\HP\\Desktop/test4.jpeg\")\n",
    "data = detect(frame)"
   ]
  },
  {
   "cell_type": "code",
   "execution_count": null,
   "id": "d22a3e8d",
   "metadata": {},
   "outputs": [],
   "source": []
  }
 ],
 "metadata": {
  "kernelspec": {
   "display_name": "Python 3 (ipykernel)",
   "language": "python",
   "name": "python3"
  },
  "language_info": {
   "codemirror_mode": {
    "name": "ipython",
    "version": 3
   },
   "file_extension": ".py",
   "mimetype": "text/x-python",
   "name": "python",
   "nbconvert_exporter": "python",
   "pygments_lexer": "ipython3",
   "version": "3.9.7"
  }
 },
 "nbformat": 4,
 "nbformat_minor": 5
}
